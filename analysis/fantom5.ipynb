{
 "cells": [
  {
   "cell_type": "code",
   "execution_count": 13,
   "metadata": {},
   "outputs": [],
   "source": [
    "import pandas as pd\n",
    "%matplotlib inline"
   ]
  },
  {
   "cell_type": "code",
   "execution_count": 2,
   "metadata": {},
   "outputs": [
    {
     "data": {
      "text/html": [
       "<div>\n",
       "<style scoped>\n",
       "    .dataframe tbody tr th:only-of-type {\n",
       "        vertical-align: middle;\n",
       "    }\n",
       "\n",
       "    .dataframe tbody tr th {\n",
       "        vertical-align: top;\n",
       "    }\n",
       "\n",
       "    .dataframe thead th {\n",
       "        text-align: right;\n",
       "    }\n",
       "</style>\n",
       "<table border=\"1\" class=\"dataframe\">\n",
       "  <thead>\n",
       "    <tr style=\"text-align: right;\">\n",
       "      <th></th>\n",
       "      <th>chrom</th>\n",
       "      <th>start</th>\n",
       "      <th>end</th>\n",
       "      <th>ensembl_id</th>\n",
       "      <th>score</th>\n",
       "      <th>cell_type</th>\n",
       "    </tr>\n",
       "  </thead>\n",
       "  <tbody>\n",
       "    <tr>\n",
       "      <th>0</th>\n",
       "      <td>1</td>\n",
       "      <td>100113535</td>\n",
       "      <td>100114036</td>\n",
       "      <td>ENSG00000162688</td>\n",
       "      <td>0.041209</td>\n",
       "      <td>Unspecified</td>\n",
       "    </tr>\n",
       "    <tr>\n",
       "      <th>1</th>\n",
       "      <td>1</td>\n",
       "      <td>100113535</td>\n",
       "      <td>100114036</td>\n",
       "      <td>ENSG00000099260</td>\n",
       "      <td>0.229441</td>\n",
       "      <td>Unspecified</td>\n",
       "    </tr>\n",
       "    <tr>\n",
       "      <th>2</th>\n",
       "      <td>1</td>\n",
       "      <td>100138207</td>\n",
       "      <td>100138591</td>\n",
       "      <td>ENSG00000162688</td>\n",
       "      <td>0.112896</td>\n",
       "      <td>Unspecified</td>\n",
       "    </tr>\n",
       "    <tr>\n",
       "      <th>3</th>\n",
       "      <td>1</td>\n",
       "      <td>100138207</td>\n",
       "      <td>100138591</td>\n",
       "      <td>ENSG00000099260</td>\n",
       "      <td>0.247009</td>\n",
       "      <td>Unspecified</td>\n",
       "    </tr>\n",
       "    <tr>\n",
       "      <th>4</th>\n",
       "      <td>1</td>\n",
       "      <td>100494313</td>\n",
       "      <td>100494735</td>\n",
       "      <td>ENSG00000156875</td>\n",
       "      <td>0.096721</td>\n",
       "      <td>Unspecified</td>\n",
       "    </tr>\n",
       "  </tbody>\n",
       "</table>\n",
       "</div>"
      ],
      "text/plain": [
       "  chrom      start        end       ensembl_id     score    cell_type\n",
       "0     1  100113535  100114036  ENSG00000162688  0.041209  Unspecified\n",
       "1     1  100113535  100114036  ENSG00000099260  0.229441  Unspecified\n",
       "2     1  100138207  100138591  ENSG00000162688  0.112896  Unspecified\n",
       "3     1  100138207  100138591  ENSG00000099260  0.247009  Unspecified\n",
       "4     1  100494313  100494735  ENSG00000156875  0.096721  Unspecified"
      ]
     },
     "execution_count": 2,
     "metadata": {},
     "output_type": "execute_result"
    }
   ],
   "source": [
    "df = pd.read_table('../output/interval/fantom5/andersson2014/180910/unspecified/1-23.processed.tsv.gz')\n",
    "df.head()"
   ]
  },
  {
   "cell_type": "code",
   "execution_count": 4,
   "metadata": {},
   "outputs": [],
   "source": [
    "%%sh\n",
    "gsutil cat gs://genetics-portal-data/lut/gene_dictionary.json | jq -r '[ .gene_id, .start, .chr] | @tsv' > ../tmp/gene_starts.tsv"
   ]
  },
  {
   "cell_type": "code",
   "execution_count": 7,
   "metadata": {},
   "outputs": [],
   "source": [
    "genes = pd.read_table('gene_starts.tsv',names=['ensembl_id','tss','chr'])"
   ]
  },
  {
   "cell_type": "code",
   "execution_count": 10,
   "metadata": {},
   "outputs": [
    {
     "name": "stdout",
     "output_type": "stream",
     "text": [
      "57015\n",
      "57003\n"
     ]
    }
   ],
   "source": [
    "fantom5 = pd.merge(df, genes, on='ensembl_id')\n",
    "print(fantom5.shape[0])\n",
    "fantom5.head()\n",
    "print(sum(fantom5['chrom'] == fantom5['chr']))"
   ]
  },
  {
   "cell_type": "code",
   "execution_count": 11,
   "metadata": {},
   "outputs": [
    {
     "data": {
      "text/html": [
       "<div>\n",
       "<style scoped>\n",
       "    .dataframe tbody tr th:only-of-type {\n",
       "        vertical-align: middle;\n",
       "    }\n",
       "\n",
       "    .dataframe tbody tr th {\n",
       "        vertical-align: top;\n",
       "    }\n",
       "\n",
       "    .dataframe thead th {\n",
       "        text-align: right;\n",
       "    }\n",
       "</style>\n",
       "<table border=\"1\" class=\"dataframe\">\n",
       "  <thead>\n",
       "    <tr style=\"text-align: right;\">\n",
       "      <th></th>\n",
       "      <th>chrom</th>\n",
       "      <th>start</th>\n",
       "      <th>end</th>\n",
       "      <th>ensembl_id</th>\n",
       "      <th>score</th>\n",
       "      <th>cell_type</th>\n",
       "      <th>tss</th>\n",
       "      <th>chr</th>\n",
       "      <th>delta</th>\n",
       "    </tr>\n",
       "  </thead>\n",
       "  <tbody>\n",
       "    <tr>\n",
       "      <th>0</th>\n",
       "      <td>1</td>\n",
       "      <td>100113535</td>\n",
       "      <td>100114036</td>\n",
       "      <td>ENSG00000162688</td>\n",
       "      <td>0.041209</td>\n",
       "      <td>Unspecified</td>\n",
       "      <td>100315640</td>\n",
       "      <td>1</td>\n",
       "      <td>201854.5</td>\n",
       "    </tr>\n",
       "    <tr>\n",
       "      <th>1</th>\n",
       "      <td>1</td>\n",
       "      <td>100138207</td>\n",
       "      <td>100138591</td>\n",
       "      <td>ENSG00000162688</td>\n",
       "      <td>0.112896</td>\n",
       "      <td>Unspecified</td>\n",
       "      <td>100315640</td>\n",
       "      <td>1</td>\n",
       "      <td>177241.0</td>\n",
       "    </tr>\n",
       "    <tr>\n",
       "      <th>2</th>\n",
       "      <td>1</td>\n",
       "      <td>99935285</td>\n",
       "      <td>99935512</td>\n",
       "      <td>ENSG00000162688</td>\n",
       "      <td>0.152100</td>\n",
       "      <td>Unspecified</td>\n",
       "      <td>100315640</td>\n",
       "      <td>1</td>\n",
       "      <td>380241.5</td>\n",
       "    </tr>\n",
       "    <tr>\n",
       "      <th>3</th>\n",
       "      <td>1</td>\n",
       "      <td>100113535</td>\n",
       "      <td>100114036</td>\n",
       "      <td>ENSG00000099260</td>\n",
       "      <td>0.229441</td>\n",
       "      <td>Unspecified</td>\n",
       "      <td>100111499</td>\n",
       "      <td>1</td>\n",
       "      <td>2286.5</td>\n",
       "    </tr>\n",
       "    <tr>\n",
       "      <th>4</th>\n",
       "      <td>1</td>\n",
       "      <td>100138207</td>\n",
       "      <td>100138591</td>\n",
       "      <td>ENSG00000099260</td>\n",
       "      <td>0.247009</td>\n",
       "      <td>Unspecified</td>\n",
       "      <td>100111499</td>\n",
       "      <td>1</td>\n",
       "      <td>26900.0</td>\n",
       "    </tr>\n",
       "  </tbody>\n",
       "</table>\n",
       "</div>"
      ],
      "text/plain": [
       "  chrom      start        end       ensembl_id     score    cell_type  \\\n",
       "0     1  100113535  100114036  ENSG00000162688  0.041209  Unspecified   \n",
       "1     1  100138207  100138591  ENSG00000162688  0.112896  Unspecified   \n",
       "2     1   99935285   99935512  ENSG00000162688  0.152100  Unspecified   \n",
       "3     1  100113535  100114036  ENSG00000099260  0.229441  Unspecified   \n",
       "4     1  100138207  100138591  ENSG00000099260  0.247009  Unspecified   \n",
       "\n",
       "         tss chr     delta  \n",
       "0  100315640   1  201854.5  \n",
       "1  100315640   1  177241.0  \n",
       "2  100315640   1  380241.5  \n",
       "3  100111499   1    2286.5  \n",
       "4  100111499   1   26900.0  "
      ]
     },
     "execution_count": 11,
     "metadata": {},
     "output_type": "execute_result"
    }
   ],
   "source": [
    "fantom5['delta'] = abs(fantom5.tss - (fantom5.start + fantom5.end)/2)\n",
    "fantom5.head()"
   ]
  },
  {
   "cell_type": "code",
   "execution_count": 16,
   "metadata": {},
   "outputs": [
    {
     "data": {
      "text/plain": [
       "<matplotlib.axes._subplots.AxesSubplot at 0x113ee44e0>"
      ]
     },
     "execution_count": 16,
     "metadata": {},
     "output_type": "execute_result"
    },
    {
     "data": {
      "image/png": "[encoded data removed]",
      "text/plain": [
       "<Figure size 432x288 with 1 Axes>"
      ]
     },
     "metadata": {},
     "output_type": "display_data"
    }
   ],
   "source": [
    "fantom5['delta'].plot(kind='box', vert=False, logx=True)"
   ]
  },
  {
   "cell_type": "code",
   "execution_count": 23,
   "metadata": {},
   "outputs": [
    {
     "data": {
      "text/plain": [
       "count    5.701500e+04\n",
       "mean     2.050249e+05\n",
       "std      5.341328e+05\n",
       "min      2.700000e+01\n",
       "25%      5.707200e+04\n",
       "50%      1.637205e+05\n",
       "75%      3.190350e+05\n",
       "max      9.316505e+07\n",
       "Name: delta, dtype: float64"
      ]
     },
     "execution_count": 23,
     "metadata": {},
     "output_type": "execute_result"
    }
   ],
   "source": [
    "fantom5['delta'].describe()"
   ]
  },
  {
   "cell_type": "code",
   "execution_count": null,
   "metadata": {},
   "outputs": [],
   "source": []
  }
 ],
 "metadata": {
  "kernelspec": {
   "display_name": "Python 3",
   "language": "python",
   "name": "python3"
  },
  "language_info": {
   "codemirror_mode": {
    "name": "ipython",
    "version": 3
   },
   "file_extension": ".py",
   "mimetype": "text/x-python",
   "name": "python",
   "nbconvert_exporter": "python",
   "pygments_lexer": "ipython3",
   "version": "3.7.0"
  }
 },
 "nbformat": 4,
 "nbformat_minor": 2
}
