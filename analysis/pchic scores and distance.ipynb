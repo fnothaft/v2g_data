{
 "cells": [
  {
   "cell_type": "code",
   "execution_count": null,
   "metadata": {},
   "outputs": [],
   "source": [
    "%%shell\n",
    "# make a gene start table\n",
    "cat gene_dictionary.json| jq -r '[ .gene_id, .start, .chr] | @tsv' > gene_starts.tsv\n",
    "\n",
    "# get the targets in this folder\n"
   ]
  },
  {
   "cell_type": "markdown",
   "metadata": {},
   "source": [
    "## Decide on the thresholds for pCHIC/Javierre 2016"
   ]
  },
  {
   "cell_type": "code",
   "execution_count": 1,
   "metadata": {},
   "outputs": [],
   "source": [
    "import pandas as pd\n",
    "import numpy as np\n",
    "import seaborn as sns\n",
    "%matplotlib inline"
   ]
  },
  {
   "cell_type": "code",
   "execution_count": 2,
   "metadata": {},
   "outputs": [
    {
     "name": "stderr",
     "output_type": "stream",
     "text": [
      "/usr/local/Cellar/ipython/6.5.0/libexec/lib/python3.7/site-packages/IPython/core/interactiveshell.py:2785: DtypeWarning: Columns (0) have mixed types. Specify dtype option on import or set low_memory=False.\n",
      "  interactivity=interactivity, compiler=compiler, result=result)\n"
     ]
    },
    {
     "data": {
      "text/html": [
       "<div>\n",
       "<style scoped>\n",
       "    .dataframe tbody tr th:only-of-type {\n",
       "        vertical-align: middle;\n",
       "    }\n",
       "\n",
       "    .dataframe tbody tr th {\n",
       "        vertical-align: top;\n",
       "    }\n",
       "\n",
       "    .dataframe thead th {\n",
       "        text-align: right;\n",
       "    }\n",
       "</style>\n",
       "<table border=\"1\" class=\"dataframe\">\n",
       "  <thead>\n",
       "    <tr style=\"text-align: right;\">\n",
       "      <th></th>\n",
       "      <th>chrom</th>\n",
       "      <th>start</th>\n",
       "      <th>end</th>\n",
       "      <th>ensembl_id</th>\n",
       "      <th>score</th>\n",
       "      <th>cell_type</th>\n",
       "    </tr>\n",
       "  </thead>\n",
       "  <tbody>\n",
       "    <tr>\n",
       "      <th>0</th>\n",
       "      <td>1</td>\n",
       "      <td>831896</td>\n",
       "      <td>848168</td>\n",
       "      <td>ENSG00000187634</td>\n",
       "      <td>30.439420</td>\n",
       "      <td>Erythroblasts</td>\n",
       "    </tr>\n",
       "    <tr>\n",
       "      <th>1</th>\n",
       "      <td>1</td>\n",
       "      <td>831896</td>\n",
       "      <td>848168</td>\n",
       "      <td>ENSG00000268179</td>\n",
       "      <td>30.439420</td>\n",
       "      <td>Erythroblasts</td>\n",
       "    </tr>\n",
       "    <tr>\n",
       "      <th>2</th>\n",
       "      <td>1</td>\n",
       "      <td>848170</td>\n",
       "      <td>850618</td>\n",
       "      <td>ENSG00000162571</td>\n",
       "      <td>5.113846</td>\n",
       "      <td>Erythroblasts</td>\n",
       "    </tr>\n",
       "    <tr>\n",
       "      <th>3</th>\n",
       "      <td>1</td>\n",
       "      <td>848170</td>\n",
       "      <td>850618</td>\n",
       "      <td>ENSG00000131584</td>\n",
       "      <td>5.237197</td>\n",
       "      <td>Erythroblasts</td>\n",
       "    </tr>\n",
       "    <tr>\n",
       "      <th>4</th>\n",
       "      <td>1</td>\n",
       "      <td>848170</td>\n",
       "      <td>850618</td>\n",
       "      <td>ENSG00000169972</td>\n",
       "      <td>5.237197</td>\n",
       "      <td>Erythroblasts</td>\n",
       "    </tr>\n",
       "  </tbody>\n",
       "</table>\n",
       "</div>"
      ],
      "text/plain": [
       "  chrom   start     end       ensembl_id      score      cell_type\n",
       "0     1  831896  848168  ENSG00000187634  30.439420  Erythroblasts\n",
       "1     1  831896  848168  ENSG00000268179  30.439420  Erythroblasts\n",
       "2     1  848170  850618  ENSG00000162571   5.113846  Erythroblasts\n",
       "3     1  848170  850618  ENSG00000131584   5.237197  Erythroblasts\n",
       "4     1  848170  850618  ENSG00000169972   5.237197  Erythroblasts"
      ]
     },
     "execution_count": 2,
     "metadata": {},
     "output_type": "execute_result"
    }
   ],
   "source": [
    "pchic = pd.read_table('full.tsv')\n",
    "pchic.head()"
   ]
  },
  {
   "cell_type": "code",
   "execution_count": 3,
   "metadata": {},
   "outputs": [
    {
     "data": {
      "text/html": [
       "<div>\n",
       "<style scoped>\n",
       "    .dataframe tbody tr th:only-of-type {\n",
       "        vertical-align: middle;\n",
       "    }\n",
       "\n",
       "    .dataframe tbody tr th {\n",
       "        vertical-align: top;\n",
       "    }\n",
       "\n",
       "    .dataframe thead th {\n",
       "        text-align: right;\n",
       "    }\n",
       "</style>\n",
       "<table border=\"1\" class=\"dataframe\">\n",
       "  <thead>\n",
       "    <tr style=\"text-align: right;\">\n",
       "      <th></th>\n",
       "      <th>ensembl_id</th>\n",
       "      <th>tss</th>\n",
       "      <th>chr</th>\n",
       "    </tr>\n",
       "  </thead>\n",
       "  <tbody>\n",
       "    <tr>\n",
       "      <th>0</th>\n",
       "      <td>ENSG00000223972</td>\n",
       "      <td>11869</td>\n",
       "      <td>1</td>\n",
       "    </tr>\n",
       "    <tr>\n",
       "      <th>1</th>\n",
       "      <td>ENSG00000227232</td>\n",
       "      <td>14363</td>\n",
       "      <td>1</td>\n",
       "    </tr>\n",
       "    <tr>\n",
       "      <th>2</th>\n",
       "      <td>ENSG00000243485</td>\n",
       "      <td>29554</td>\n",
       "      <td>1</td>\n",
       "    </tr>\n",
       "    <tr>\n",
       "      <th>3</th>\n",
       "      <td>ENSG00000237613</td>\n",
       "      <td>34554</td>\n",
       "      <td>1</td>\n",
       "    </tr>\n",
       "    <tr>\n",
       "      <th>4</th>\n",
       "      <td>ENSG00000268020</td>\n",
       "      <td>52473</td>\n",
       "      <td>1</td>\n",
       "    </tr>\n",
       "  </tbody>\n",
       "</table>\n",
       "</div>"
      ],
      "text/plain": [
       "        ensembl_id    tss chr\n",
       "0  ENSG00000223972  11869   1\n",
       "1  ENSG00000227232  14363   1\n",
       "2  ENSG00000243485  29554   1\n",
       "3  ENSG00000237613  34554   1\n",
       "4  ENSG00000268020  52473   1"
      ]
     },
     "execution_count": 3,
     "metadata": {},
     "output_type": "execute_result"
    }
   ],
   "source": [
    "genes = pd.read_table('gene_starts.tsv',names=['ensembl_id','tss','chr'])\n",
    "genes.head()"
   ]
  },
  {
   "cell_type": "code",
   "execution_count": 4,
   "metadata": {},
   "outputs": [
    {
     "name": "stdout",
     "output_type": "stream",
     "text": [
      "(3156033, 8)\n",
      "(1963994, 8)\n"
     ]
    },
    {
     "data": {
      "text/html": [
       "<div>\n",
       "<style scoped>\n",
       "    .dataframe tbody tr th:only-of-type {\n",
       "        vertical-align: middle;\n",
       "    }\n",
       "\n",
       "    .dataframe tbody tr th {\n",
       "        vertical-align: top;\n",
       "    }\n",
       "\n",
       "    .dataframe thead th {\n",
       "        text-align: right;\n",
       "    }\n",
       "</style>\n",
       "<table border=\"1\" class=\"dataframe\">\n",
       "  <thead>\n",
       "    <tr style=\"text-align: right;\">\n",
       "      <th></th>\n",
       "      <th>chrom</th>\n",
       "      <th>start</th>\n",
       "      <th>end</th>\n",
       "      <th>ensembl_id</th>\n",
       "      <th>score</th>\n",
       "      <th>cell_type</th>\n",
       "      <th>tss</th>\n",
       "      <th>chr</th>\n",
       "    </tr>\n",
       "  </thead>\n",
       "  <tbody>\n",
       "    <tr>\n",
       "      <th>11</th>\n",
       "      <td>1</td>\n",
       "      <td>831896</td>\n",
       "      <td>848168</td>\n",
       "      <td>ENSG00000187634</td>\n",
       "      <td>13.483215</td>\n",
       "      <td>Foetal_thymus</td>\n",
       "      <td>860260</td>\n",
       "      <td>1</td>\n",
       "    </tr>\n",
       "    <tr>\n",
       "      <th>12</th>\n",
       "      <td>1</td>\n",
       "      <td>1126527</td>\n",
       "      <td>1150969</td>\n",
       "      <td>ENSG00000187634</td>\n",
       "      <td>6.997477</td>\n",
       "      <td>Foetal_thymus</td>\n",
       "      <td>860260</td>\n",
       "      <td>1</td>\n",
       "    </tr>\n",
       "    <tr>\n",
       "      <th>13</th>\n",
       "      <td>1</td>\n",
       "      <td>831896</td>\n",
       "      <td>848168</td>\n",
       "      <td>ENSG00000187634</td>\n",
       "      <td>23.155242</td>\n",
       "      <td>Macrophages_M0</td>\n",
       "      <td>860260</td>\n",
       "      <td>1</td>\n",
       "    </tr>\n",
       "    <tr>\n",
       "      <th>14</th>\n",
       "      <td>1</td>\n",
       "      <td>1126527</td>\n",
       "      <td>1150969</td>\n",
       "      <td>ENSG00000187634</td>\n",
       "      <td>12.273935</td>\n",
       "      <td>Macrophages_M0</td>\n",
       "      <td>860260</td>\n",
       "      <td>1</td>\n",
       "    </tr>\n",
       "    <tr>\n",
       "      <th>15</th>\n",
       "      <td>1</td>\n",
       "      <td>1212440</td>\n",
       "      <td>1220554</td>\n",
       "      <td>ENSG00000187634</td>\n",
       "      <td>6.047179</td>\n",
       "      <td>Macrophages_M0</td>\n",
       "      <td>860260</td>\n",
       "      <td>1</td>\n",
       "    </tr>\n",
       "  </tbody>\n",
       "</table>\n",
       "</div>"
      ],
      "text/plain": [
       "   chrom    start      end       ensembl_id      score       cell_type  \\\n",
       "11     1   831896   848168  ENSG00000187634  13.483215   Foetal_thymus   \n",
       "12     1  1126527  1150969  ENSG00000187634   6.997477   Foetal_thymus   \n",
       "13     1   831896   848168  ENSG00000187634  23.155242  Macrophages_M0   \n",
       "14     1  1126527  1150969  ENSG00000187634  12.273935  Macrophages_M0   \n",
       "15     1  1212440  1220554  ENSG00000187634   6.047179  Macrophages_M0   \n",
       "\n",
       "       tss chr  \n",
       "11  860260   1  \n",
       "12  860260   1  \n",
       "13  860260   1  \n",
       "14  860260   1  \n",
       "15  860260   1  "
      ]
     },
     "execution_count": 4,
     "metadata": {},
     "output_type": "execute_result"
    }
   ],
   "source": [
    "df = pd.merge(pchic, genes, on='ensembl_id')\n",
    "print(df.shape)\n",
    "df = df[df['chrom'] == df['chr']]\n",
    "print(df.shape)\n",
    "df.head()"
   ]
  },
  {
   "cell_type": "code",
   "execution_count": 5,
   "metadata": {},
   "outputs": [
    {
     "data": {
      "text/html": [
       "<div>\n",
       "<style scoped>\n",
       "    .dataframe tbody tr th:only-of-type {\n",
       "        vertical-align: middle;\n",
       "    }\n",
       "\n",
       "    .dataframe tbody tr th {\n",
       "        vertical-align: top;\n",
       "    }\n",
       "\n",
       "    .dataframe thead th {\n",
       "        text-align: right;\n",
       "    }\n",
       "</style>\n",
       "<table border=\"1\" class=\"dataframe\">\n",
       "  <thead>\n",
       "    <tr style=\"text-align: right;\">\n",
       "      <th></th>\n",
       "      <th>chrom</th>\n",
       "      <th>start</th>\n",
       "      <th>end</th>\n",
       "      <th>ensembl_id</th>\n",
       "      <th>score</th>\n",
       "      <th>cell_type</th>\n",
       "      <th>tss</th>\n",
       "      <th>chr</th>\n",
       "      <th>delta</th>\n",
       "    </tr>\n",
       "  </thead>\n",
       "  <tbody>\n",
       "    <tr>\n",
       "      <th>11</th>\n",
       "      <td>1</td>\n",
       "      <td>831896</td>\n",
       "      <td>848168</td>\n",
       "      <td>ENSG00000187634</td>\n",
       "      <td>13.483215</td>\n",
       "      <td>Foetal_thymus</td>\n",
       "      <td>860260</td>\n",
       "      <td>1</td>\n",
       "      <td>20228.0</td>\n",
       "    </tr>\n",
       "    <tr>\n",
       "      <th>12</th>\n",
       "      <td>1</td>\n",
       "      <td>1126527</td>\n",
       "      <td>1150969</td>\n",
       "      <td>ENSG00000187634</td>\n",
       "      <td>6.997477</td>\n",
       "      <td>Foetal_thymus</td>\n",
       "      <td>860260</td>\n",
       "      <td>1</td>\n",
       "      <td>278488.0</td>\n",
       "    </tr>\n",
       "    <tr>\n",
       "      <th>13</th>\n",
       "      <td>1</td>\n",
       "      <td>831896</td>\n",
       "      <td>848168</td>\n",
       "      <td>ENSG00000187634</td>\n",
       "      <td>23.155242</td>\n",
       "      <td>Macrophages_M0</td>\n",
       "      <td>860260</td>\n",
       "      <td>1</td>\n",
       "      <td>20228.0</td>\n",
       "    </tr>\n",
       "    <tr>\n",
       "      <th>14</th>\n",
       "      <td>1</td>\n",
       "      <td>1126527</td>\n",
       "      <td>1150969</td>\n",
       "      <td>ENSG00000187634</td>\n",
       "      <td>12.273935</td>\n",
       "      <td>Macrophages_M0</td>\n",
       "      <td>860260</td>\n",
       "      <td>1</td>\n",
       "      <td>278488.0</td>\n",
       "    </tr>\n",
       "    <tr>\n",
       "      <th>15</th>\n",
       "      <td>1</td>\n",
       "      <td>1212440</td>\n",
       "      <td>1220554</td>\n",
       "      <td>ENSG00000187634</td>\n",
       "      <td>6.047179</td>\n",
       "      <td>Macrophages_M0</td>\n",
       "      <td>860260</td>\n",
       "      <td>1</td>\n",
       "      <td>356237.0</td>\n",
       "    </tr>\n",
       "  </tbody>\n",
       "</table>\n",
       "</div>"
      ],
      "text/plain": [
       "   chrom    start      end       ensembl_id      score       cell_type  \\\n",
       "11     1   831896   848168  ENSG00000187634  13.483215   Foetal_thymus   \n",
       "12     1  1126527  1150969  ENSG00000187634   6.997477   Foetal_thymus   \n",
       "13     1   831896   848168  ENSG00000187634  23.155242  Macrophages_M0   \n",
       "14     1  1126527  1150969  ENSG00000187634  12.273935  Macrophages_M0   \n",
       "15     1  1212440  1220554  ENSG00000187634   6.047179  Macrophages_M0   \n",
       "\n",
       "       tss chr     delta  \n",
       "11  860260   1   20228.0  \n",
       "12  860260   1  278488.0  \n",
       "13  860260   1   20228.0  \n",
       "14  860260   1  278488.0  \n",
       "15  860260   1  356237.0  "
      ]
     },
     "execution_count": 5,
     "metadata": {},
     "output_type": "execute_result"
    }
   ],
   "source": [
    "df['delta'] = abs(df.tss - (df.start + df.end)/2)\n",
    "df.head()"
   ]
  },
  {
   "cell_type": "code",
   "execution_count": 40,
   "metadata": {},
   "outputs": [
    {
     "data": {
      "text/plain": [
       "<matplotlib.axes._subplots.AxesSubplot at 0x123da4630>"
      ]
     },
     "execution_count": 40,
     "metadata": {},
     "output_type": "execute_result"
    },
    {
     "data": {
      "image/png": "[encoded data removed]",
      "text/plain": [
       "<Figure size 432x288 with 1 Axes>"
      ]
     },
     "metadata": {},
     "output_type": "display_data"
    }
   ],
   "source": [
    "df.plot.scatter(\"delta\",\"score\",loglog=True)"
   ]
  },
  {
   "cell_type": "code",
   "execution_count": 9,
   "metadata": {
    "scrolled": true
   },
   "outputs": [
    {
     "data": {
      "text/plain": [
       "<matplotlib.axes._subplots.AxesSubplot at 0x11da107b8>"
      ]
     },
     "execution_count": 9,
     "metadata": {},
     "output_type": "execute_result"
    },
    {
     "data": {
      "image/png": "[encoded data removed]",
      "text/plain": [
       "<Figure size 432x288 with 1 Axes>"
      ]
     },
     "metadata": {},
     "output_type": "display_data"
    }
   ],
   "source": [
    "df['delta'].plot(kind='hist',loglog=True,bins=1000)"
   ]
  },
  {
   "cell_type": "code",
   "execution_count": 25,
   "metadata": {},
   "outputs": [
    {
     "data": {
      "text/plain": [
       "<matplotlib.axes._subplots.AxesSubplot at 0x122974898>"
      ]
     },
     "execution_count": 25,
     "metadata": {},
     "output_type": "execute_result"
    },
    {
     "data": {
      "image/png": "[encoded data removed]",
      "text/plain": [
       "<Figure size 432x288 with 1 Axes>"
      ]
     },
     "metadata": {},
     "output_type": "display_data"
    }
   ],
   "source": [
    "df['delta'].plot(kind='box',logx=True, vert=False)"
   ]
  },
  {
   "cell_type": "code",
   "execution_count": 26,
   "metadata": {
    "scrolled": true
   },
   "outputs": [
    {
     "data": {
      "text/plain": [
       "count    1.963994e+06\n",
       "mean     9.916684e+05\n",
       "std      4.955982e+06\n",
       "min      2.500000e+00\n",
       "25%      1.470405e+05\n",
       "50%      2.895870e+05\n",
       "75%      5.596670e+05\n",
       "max      2.374542e+08\n",
       "Name: delta, dtype: float64"
      ]
     },
     "execution_count": 26,
     "metadata": {},
     "output_type": "execute_result"
    }
   ],
   "source": [
    "df['delta'].describe()"
   ]
  },
  {
   "cell_type": "code",
   "execution_count": 34,
   "metadata": {},
   "outputs": [
    {
     "data": {
      "text/plain": [
       "0.68     449552.0\n",
       "0.75     559667.0\n",
       "0.90    1284893.5\n",
       "0.95    2451406.0\n",
       "Name: delta, dtype: float64"
      ]
     },
     "execution_count": 34,
     "metadata": {},
     "output_type": "execute_result"
    }
   ],
   "source": [
    "df['delta'].quantile([0.68,0.75,0.9,0.95])"
   ]
  },
  {
   "cell_type": "code",
   "execution_count": 38,
   "metadata": {},
   "outputs": [
    {
     "name": "stdout",
     "output_type": "stream",
     "text": [
      "(1865719, 9)\n"
     ]
    }
   ],
   "source": [
    "print(df.loc[df['delta'] < 2.45e6].shape)"
   ]
  },
  {
   "cell_type": "markdown",
   "metadata": {},
   "source": [
    "It appears 2.45e6 is a reasonable threshold for this dataset. Real binding interactions ought to sit evenly in a window of up to the size of the accessible region of chromatin - sometimes called a topologically accessible domain (TAD), which is of the order of 100 kb - 1 Mb. This threshold would include them."
   ]
  },
  {
   "cell_type": "code",
   "execution_count": null,
   "metadata": {},
   "outputs": [],
   "source": []
  }
 ],
 "metadata": {
  "kernelspec": {
   "display_name": "Python 3",
   "language": "python",
   "name": "python3"
  },
  "language_info": {
   "codemirror_mode": {
    "name": "ipython",
    "version": 3
   },
   "file_extension": ".py",
   "mimetype": "text/x-python",
   "name": "python",
   "nbconvert_exporter": "python",
   "pygments_lexer": "ipython3",
   "version": "3.7.0"
  }
 },
 "nbformat": 4,
 "nbformat_minor": 2
}
